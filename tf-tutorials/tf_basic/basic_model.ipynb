{
 "cells": [
  {
   "cell_type": "markdown",
   "metadata": {},
   "source": [
    "## 1. 创建数据"
   ]
  },
  {
   "cell_type": "code",
   "execution_count": 4,
   "metadata": {},
   "outputs": [
    {
     "name": "stdout",
     "output_type": "stream",
     "text": [
      "[ 0.77338976  0.9365871   0.3307451   0.90451467  0.40285748  0.49826798\n",
      "  0.92917049  0.79000038  0.35394025  0.45104423  0.28238592  0.89895642\n",
      "  0.14216319  0.70413154  0.02923609  0.45622331  0.7835288   0.72365946\n",
      "  0.15848669  0.2014745   0.92040777  0.58262283  0.45206112  0.53472656\n",
      "  0.309154    0.70933032  0.64417601  0.5253948   0.39658716  0.32598919\n",
      "  0.55872369  0.70215082  0.46928394  0.43290773  0.10754162  0.8359409\n",
      "  0.03370835  0.75421613  0.95030814  0.46915048  0.42660037  0.6916756\n",
      "  0.97078532  0.90632612  0.28401867  0.29380748  0.76033211  0.4089191\n",
      "  0.92048782  0.59014291  0.68659496  0.82861602  0.77402067  0.85289735\n",
      "  0.91342413  0.98356986  0.68029356  0.10051139  0.17856538  0.06968912\n",
      "  0.91409189  0.00866384  0.90383393  0.07796204  0.113026    0.32804123\n",
      "  0.6558668   0.57861888  0.38683131  0.23151419  0.87295753  0.03779945\n",
      "  0.5135029   0.93979567  0.41715452  0.1269165   0.5104444   0.52183551\n",
      "  0.56282097  0.15759368  0.08469739  0.91299051  0.0734034   0.51078266\n",
      "  0.88851905  0.99618512  0.14015134  0.90592253  0.02477325  0.74271536\n",
      "  0.42194623  0.48666847  0.54980999  0.00635723  0.8949005   0.73291814\n",
      "  0.81117123  0.40348598  0.60006845  0.56919968]\n"
     ]
    }
   ],
   "source": [
    "import tensorflow as tf\n",
    "import numpy as np\n",
    "\n",
    "# create data\n",
    "x_data = np.random.rand(100).astype(np.float32)\n",
    "y_data = x_data*0.1 + 0.3\n",
    "\n",
    "print(x_data)"
   ]
  },
  {
   "cell_type": "markdown",
   "metadata": {},
   "source": [
    "## 2. 搭建模型"
   ]
  },
  {
   "cell_type": "code",
   "execution_count": 24,
   "metadata": {},
   "outputs": [
    {
     "name": "stdout",
     "output_type": "stream",
     "text": [
      "Tensor(\"zeros_28:0\", shape=(1,), dtype=float32)\n",
      "Tensor(\"random_uniform_21:0\", shape=(1,), dtype=float32)\n",
      "(100,)\n",
      "<tf.Variable 'Variable_32:0' shape=(1,) dtype=float32_ref>\n",
      "Tensor(\"mul_23:0\", shape=(100,), dtype=float32)\n",
      "Tensor(\"add_16:0\", shape=(100,), dtype=float32)\n"
     ]
    }
   ],
   "source": [
    "Weights = tf.Variable(tf.random_uniform([1], -1.0, 1.0))\n",
    "biases = tf.Variable(tf.zeros([1]))\n",
    "\n",
    "y = Weights*x_data + biases\n",
    "\n",
    "\n",
    "print(tf.zeros([1]))\n",
    "print(tf.random_uniform([1], -1.0, 1.0))\n",
    "\n",
    "print(x_data.shape)\n",
    "print(Weights)\n",
    "\n",
    "print(Weights*x_data)\n",
    "print(y)"
   ]
  },
  {
   "cell_type": "markdown",
   "metadata": {},
   "source": [
    "## 3. 计算误差"
   ]
  },
  {
   "cell_type": "code",
   "execution_count": 16,
   "metadata": {
    "collapsed": true
   },
   "outputs": [],
   "source": [
    "loss = tf.reduce_mean(tf.square(y-y_data))"
   ]
  },
  {
   "cell_type": "markdown",
   "metadata": {},
   "source": [
    "## 4. 传播误差"
   ]
  },
  {
   "cell_type": "code",
   "execution_count": 17,
   "metadata": {
    "collapsed": true
   },
   "outputs": [],
   "source": [
    "optimizer = tf.train.GradientDescentOptimizer(0.5)\n",
    "train = optimizer.minimize(loss)"
   ]
  },
  {
   "cell_type": "markdown",
   "metadata": {},
   "source": [
    "## 5. 训练"
   ]
  },
  {
   "cell_type": "code",
   "execution_count": 18,
   "metadata": {
    "collapsed": true
   },
   "outputs": [],
   "source": [
    "init = tf.global_variables_initializer()"
   ]
  },
  {
   "cell_type": "code",
   "execution_count": 19,
   "metadata": {},
   "outputs": [
    {
     "name": "stdout",
     "output_type": "stream",
     "text": [
      "0 [ 0.76749408] [-0.13126557]\n",
      "20 [ 0.27437192] [ 0.20026028]\n",
      "40 [ 0.14414205] [ 0.27475101]\n",
      "60 [ 0.1111745] [ 0.29360825]\n",
      "80 [ 0.10282882] [ 0.29838195]\n",
      "100 [ 0.10071612] [ 0.29959041]\n",
      "120 [ 0.1001813] [ 0.2998963]\n",
      "140 [ 0.10004591] [ 0.29997376]\n",
      "160 [ 0.10001165] [ 0.29999334]\n",
      "180 [ 0.10000294] [ 0.29999834]\n",
      "200 [ 0.10000074] [ 0.29999959]\n"
     ]
    }
   ],
   "source": [
    "sess = tf.Session()\n",
    "sess.run(init)          # Very important\n",
    "\n",
    "for step in range(201):\n",
    "    sess.run(train)\n",
    "    if step % 20 == 0:\n",
    "        print(step, sess.run(Weights), sess.run(biases))\n"
   ]
  },
  {
   "cell_type": "code",
   "execution_count": null,
   "metadata": {
    "collapsed": true
   },
   "outputs": [],
   "source": []
  }
 ],
 "metadata": {
  "kernelspec": {
   "display_name": "Python 3",
   "language": "python",
   "name": "python3"
  },
  "language_info": {
   "codemirror_mode": {
    "name": "ipython",
    "version": 3
   },
   "file_extension": ".py",
   "mimetype": "text/x-python",
   "name": "python",
   "nbconvert_exporter": "python",
   "pygments_lexer": "ipython3",
   "version": "3.6.3"
  }
 },
 "nbformat": 4,
 "nbformat_minor": 2
}
