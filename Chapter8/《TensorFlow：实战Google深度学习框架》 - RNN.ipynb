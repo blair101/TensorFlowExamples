{
 "cells": [
  {
   "cell_type": "markdown",
   "metadata": {
    "collapsed": true
   },
   "source": [
    "# TensorFlow：实战Google深度学习框架 - RNN\n",
    "\n",
    "为了简化起见，这个例子是用np写的，没用到tensorflow"
   ]
  },
  {
   "cell_type": "code",
   "execution_count": 8,
   "metadata": {
    "collapsed": true
   },
   "outputs": [],
   "source": [
    "import numpy as np"
   ]
  },
  {
   "cell_type": "markdown",
   "metadata": {
    "collapsed": true
   },
   "source": [
    "## 1. 定义RNN的参数"
   ]
  },
  {
   "cell_type": "code",
   "execution_count": 9,
   "metadata": {
    "collapsed": true
   },
   "outputs": [],
   "source": [
    "# 初始化， state = a^{<0>} 与 定义 X 时间序列参数\n",
    "X = [1, 2]\n",
    "state = [0.0, 0.0] # a^{<0>}\n",
    "\n",
    "# 分开定义不同输入部分的权重以方便操作\n",
    "w_cell_state = np.asarray([[0.1, 0.2], [0.3, 0.4]]) # W_{aa}\n",
    "w_cell_input = np.asarray([[0.5, 0.6]]) # W_{ax}\n",
    "\n",
    "b_cell = np.asarray([0.1, -0.1])\n",
    "\n",
    "# 定义用于输出的全连接层参数， 与 state = a^{<i>} 的 shape 相反置\n",
    "w_output = np.asarray([[0.1], [2.0]])\n",
    "b_output = 0.1\n"
   ]
  },
  {
   "cell_type": "markdown",
   "metadata": {
    "collapsed": true
   },
   "source": [
    "## 2. 执行前向传播的过程"
   ]
  },
  {
   "cell_type": "code",
   "execution_count": 11,
   "metadata": {},
   "outputs": [
    {
     "name": "stdout",
     "output_type": "stream",
     "text": [
      "iteration round: 1\n",
      "before activation:  [[0.95107374 1.0254142 ]]\n",
      "state:  [[0.74026877 0.7720626 ]]\n",
      "output:  [[1.71815207]]\n",
      "iteration round: 2\n",
      "before activation:  [[1.40564566 1.55687879]]\n",
      "state:  [[0.88656589 0.91491336]]\n",
      "output:  [[2.0184833]]\n"
     ]
    }
   ],
   "source": [
    "# 按照时间顺序执行循环审计网络的前向传播过程\n",
    "for i in range(len(X)):\n",
    "    # 计算循环体中的全连接层神经网络\n",
    "    before_activation = np.dot(state, w_cell_state) + X[i] * w_cell_input + b_cell\n",
    "    \n",
    "    state = np.tanh(before_activation)\n",
    "    final_output = np.dot(state, w_output) + b_output\n",
    "    \n",
    "    print(\"iteration round:\", i+1)\n",
    "    print(\"before activation: \", before_activation)\n",
    "    \n",
    "    print(\"state: \", state)\n",
    "    print(\"output: \", final_output)"
   ]
  },
  {
   "cell_type": "code",
   "execution_count": null,
   "metadata": {
    "collapsed": true
   },
   "outputs": [],
   "source": []
  }
 ],
 "metadata": {
  "kernelspec": {
   "display_name": "Python 3",
   "language": "python",
   "name": "python3"
  },
  "language_info": {
   "codemirror_mode": {
    "name": "ipython",
    "version": 3
   },
   "file_extension": ".py",
   "mimetype": "text/x-python",
   "name": "python",
   "nbconvert_exporter": "python",
   "pygments_lexer": "ipython3",
   "version": "3.6.3"
  }
 },
 "nbformat": 4,
 "nbformat_minor": 2
}
