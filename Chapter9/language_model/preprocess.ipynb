{
 "cells": [
  {
   "cell_type": "code",
   "execution_count": 1,
   "metadata": {},
   "outputs": [
    {
     "name": "stderr",
     "output_type": "stream",
     "text": [
      "/Library/Python/2.7/site-packages/h5py/__init__.py:36: FutureWarning: Conversion of the second argument of issubdtype from `float` to `np.floating` is deprecated. In future, it will be treated as `np.float64 == np.dtype(float).type`.\n",
      "  from ._conv import register_converters as _register_converters\n"
     ]
    }
   ],
   "source": [
    "# 用来做数据处理和生成训练数据\n",
    "import codecs\n",
    "import collections\n",
    "import tensorflow as tf\n",
    "import numpy as np"
   ]
  },
  {
   "cell_type": "code",
   "execution_count": 2,
   "metadata": {},
   "outputs": [],
   "source": [
    "from operator import itemgetter"
   ]
  },
  {
   "cell_type": "code",
   "execution_count": 3,
   "metadata": {},
   "outputs": [],
   "source": [
    "RAW_DATA = './simple-examples/data/ptb.train.txt' # 训练集数据\n",
    "VOCAB_OUTPUT = 'ptb.vocab'\n",
    "counter = collections.Counter()"
   ]
  },
  {
   "cell_type": "code",
   "execution_count": 4,
   "metadata": {},
   "outputs": [],
   "source": [
    "with codecs.open(RAW_DATA, 'r', 'utf-8') as f:\n",
    "    for line in f:\n",
    "        for word in line.strip().split():\n",
    "            counter[word] += 1\n",
    "\n",
    "# 按照词频进行统计\n",
    "sorted_word_to_cnt = sorted(counter.items(), key = itemgetter(1), reverse=True)\n",
    "sorted_words = [x[0] for x in sorted_word_to_cnt]\n",
    "sorted_words = [\"<eos>\"] + sorted_words\n",
    "\n",
    "with codecs.open(VOCAB_OUTPUT, 'w', 'utf-8') as file_output:\n",
    "    for word in sorted_words:\n",
    "        file_output.write(word + '\\n')"
   ]
  },
  {
   "cell_type": "code",
   "execution_count": 5,
   "metadata": {},
   "outputs": [],
   "source": [
    "# 将原文件中的语料转化为单词编号表示的语料\n",
    "TRAIN_DATA = './simple-examples/data/ptb.train.txt' # 训练集数据\n",
    "TEST_DATA = './simple-examples/data/ptb.test.txt' # 测试集数据\n",
    "VALID_DATA = './simple-examples/data/ptb.valid.txt' # 测试集数据\n",
    "OUTPUT_TRAIN_DATA = 'ptb.train'\n",
    "OUTPUT_TEST_DATA = 'ptb.test'\n",
    "OUTPUT_VALID_DATA = 'ptb.valid'"
   ]
  },
  {
   "cell_type": "code",
   "execution_count": 6,
   "metadata": {},
   "outputs": [],
   "source": [
    "# 建立word2idx\n",
    "word2idx={}\n",
    "id = 0\n",
    "with codecs.open(VOCAB_OUTPUT) as vocab_file:\n",
    "    for line in vocab_file:\n",
    "        word2idx[line.strip()] = id\n",
    "        id += 1\n",
    "\n",
    "def getid(word):\n",
    "    '''\n",
    "    通过单词获取id\n",
    "    '''\n",
    "    return word2idx[word] if word in word2idx else word2idx['<unk>']"
   ]
  },
  {
   "cell_type": "code",
   "execution_count": 7,
   "metadata": {},
   "outputs": [],
   "source": [
    "def convert(raw_data_path, output_data_path):\n",
    "    '''\n",
    "    做文本转换的函数，将原始文本转化为编号表示单词的文本\n",
    "    '''\n",
    "    fin = codecs.open(raw_data_path, 'r', 'utf-8')\n",
    "    fout = codecs.open(output_data_path, 'w', 'utf-8')\n",
    "    for line in fin:\n",
    "        words = line.strip().split() + [\"<eos>\"]\n",
    "        out_line = ' '.join([str(getid(word)) for word in words]) + '\\n'\n",
    "        fout.write(out_line)\n",
    "    fin.close()\n",
    "    fout.close()"
   ]
  },
  {
   "cell_type": "code",
   "execution_count": 8,
   "metadata": {},
   "outputs": [],
   "source": [
    "convert(TRAIN_DATA, OUTPUT_TRAIN_DATA)\n",
    "convert(TEST_DATA, OUTPUT_TEST_DATA)\n",
    "convert(VALID_DATA, OUTPUT_VALID_DATA)"
   ]
  },
  {
   "cell_type": "code",
   "execution_count": 10,
   "metadata": {},
   "outputs": [],
   "source": [
    "TRAIN_BATCH_SIZE = 20 # 训练batch size\n",
    "TRAIN_NUM_STEP = 35\n",
    "\n",
    "def read_data(file_path):\n",
    "    '''\n",
    "    读取数据，返回包含单词编号的数组，一整个文本的内容作为一个数组返回，每行句子拼接起来\n",
    "    '''\n",
    "    with open(file_path, 'r') as fin:\n",
    "        id_string = ' '.join([line.strip() for line in fin.readlines()])\n",
    "    id_list = [int(w) for w in id_string.split()]\n",
    "    return id_list"
   ]
  },
  {
   "cell_type": "code",
   "execution_count": 34,
   "metadata": {},
   "outputs": [],
   "source": [
    "def make_batches(id_list, batch_size, num_step):\n",
    "    '''\n",
    "    获取到batch\n",
    "    Args:\n",
    "        id_list: 一整个文本组成的数组，内容是word的id\n",
    "        batch_size: batch的大小\n",
    "        num_step: 表示训练时的上下文，输入的单词个数\n",
    "    '''\n",
    "    num_batches = (len(id_list) - 1) // (batch_size * num_step) # batch的数量\n",
    "    print num_batches\n",
    "    data = np.array(id_list[:num_batches * batch_size * num_step]) # 为了凑个整除的数\n",
    "    print data.shape\n",
    "    data = np.reshape(data, [batch_size, num_batches * num_step]) # 将数据切分成 batch_size, num_batches * num_steps的数组\n",
    "    # 沿着第二个维度将数据切分为num_batches的batch，存入一个数组\n",
    "    print data.shape\n",
    "    data_batches = np.split(data, num_batches, axis = 1)\n",
    "    print len(data_batches[0])\n",
    "#     print data_batches[0]\n",
    "    \n",
    "    label = np.array(id_list[1:num_batches * batch_size * num_step + 1])\n",
    "    label = np.reshape(label, [batch_size, num_batches * num_step])\n",
    "    label_batches = np.split(label, num_batches, axis=1)\n",
    "#     print label_batches[0]\n",
    "    \n",
    "    return list(zip(data_batches, label_batches))"
   ]
  },
  {
   "cell_type": "code",
   "execution_count": 41,
   "metadata": {},
   "outputs": [
    {
     "name": "stdout",
     "output_type": "stream",
     "text": [
      "1327\n",
      "(928900,)\n",
      "(20, 46445)\n",
      "20\n",
      "(20, 35)\n",
      "2\n",
      "[[9999 9985 9976 9989 9973 9983 9975 9991 9970 9971 9987 9995 9977 9981\n",
      "  9972 9982 9988 9974 9998 9992 9993 9996 9984    0 8998    2    3   72\n",
      "   393   33 2148    1  146   19    6]\n",
      " [1515   18 1453    1  846  234    1 1374    5 1281    7 1638 1082 3841\n",
      "    17  380 1355    4  207    0    1 2616    4    1  260   13    5  335\n",
      "     1    2   16  766 1490   10   42]\n",
      " [1126  645   46   20    2 1062   82 1091  474    6 1912    7    2    2\n",
      "     8 7459   80    6    2 2126    7 1932    0 5740   82 9057  558  549\n",
      "     2   22 8823    8  537    2    0]\n",
      " [  14   93   25 1023    5  255  169   10  207    0   54 1441 1252   22\n",
      "  1659   15    1  469   42   45   55 1869    1   37    9  207    4  511\n",
      "    12    3   48    0   14   59   79]\n",
      " [   3  394   69  123    0  271  112  608    5 3434  206    7 3396    4\n",
      "    45  310 1658    6 3329  353    0  367    1  332  119  742  174   90\n",
      "   137 2402    1 1246    7  819  190]\n",
      " [  53 1525  159  725   10   23 1389    9  217 1286   42   34    2 1669\n",
      "    16  773    9  197  906    8    1  309    4 1640    0   38  368    1\n",
      "  2450  158    4  503    8  159  773]\n",
      " [ 120   63  310   26   32 2674 2668  706   18  297   63  263 2668    0\n",
      "     8   57  108   87  315   10 3136   84 7406   13   32 9321    4 1022\n",
      "   310   41  499 6572 7772    5    1]\n",
      " [   2 2168 6854    0    1 2168 3476   74 3208    1    2    3   16    6\n",
      "     2 8354  169    2    2 3642    2   23 2702 2571   22 8510  325    0\n",
      "     1 2168  595    2    7    1  334]\n",
      " [1050  900    1  294    4  108   56   79 4434   11   27  990    8 4836\n",
      "     2 3548   51    2  241    0 4836  635  296   34 2390    5   43   12\n",
      "     3   48   20   12    3   48   69]\n",
      " [2593 4169  130 1204   38   15    0   11    1    3 1157 1390    1 8813\n",
      "  9007   13 5486    6  392  377    7    1  769    2    8 3078 1157  695\n",
      "    41   79 1050  243    1  270   11]\n",
      " [4594    4  616  184   18   47   36    2  172    0  120    1 2245   24\n",
      "     7  721  131  270   42  706   25  489   17    1 2245   36  284    5\n",
      "     1  500 1686    0   39  156 1544]\n",
      " [ 958 8558 2387    0   54 3488   24    2   84    8   27 6723    2    0\n",
      "   664    1   35 3199 1259   17    2   65  341    1    2 1272 2111    1\n",
      "  1465 2213  159 2158    4 3308    4]\n",
      " [  16    1 2192 1052  532    4   71    4    1 1392  302    8  152  154\n",
      "     4   27  197  222    0   28   50   58   71    4    1  197  222    0\n",
      "    23 2638   59   50    2 2260   96]\n",
      " [   5  875    5 3096   45 3026   28   30  556    2 3325  112   20   12\n",
      "     3    5   12    3    0   29    1  188 1457  731 1125  270    7    1\n",
      "  2307   30   58    5  629  112    8]\n",
      " [   5 2309   43    3    3 1139  130  855    0 3192 1425   80   15   14\n",
      "   527    6 4413  681   22    1  125    8  111  474   11    6  274  356\n",
      "     4  363   21  246   70    0    1]\n",
      " [ 165 1893  228   10    1 2303   30 4679    7  309   19   31 4856   77\n",
      "   656    8   61  189   89   25  262    5 5523  693 1379    0    2   65\n",
      "   660    1  129  146 1406    4  413]\n",
      " [2465   43  689    1  225   33   59  932 2465   10 4179    2  197   85\n",
      "   752   36  129 2752   23    2   44    0 1207  735   80    9  564   89\n",
      "  6558    1  309    4   31 1054  305]\n",
      " [  74  285   41  375 1661  132  299  483  568  829   15   14   42  269\n",
      "     1 1336    5 2247  580 1593 2660    7    1 4476    8 1730    0   22\n",
      "    10 2250    7 1713  165   15    1]\n",
      " [   3   38   46 4555  383 3170    0    1  358 2895   27  337    2    5\n",
      "  3485 8494    8  453    5 5469  596   10  215  358    7    1 2633 2545\n",
      "     5 1486   27  194 2101    0   23]\n",
      " [ 742   20    1   12    3   21    7    1  334  109    0    8   28 1295\n",
      "    10   45 1314 1466   13  170    7    1  130 1546    4 2310    0    1\n",
      "    37  368   27  500  253  716    5]]\n"
     ]
    }
   ],
   "source": [
    "train_batches = make_batches(read_data(OUTPUT_TRAIN_DATA), TRAIN_BATCH_SIZE, TRAIN_NUM_STEP)\n",
    "print train_batches[0][0].shape\n",
    "print len(train_batches[0])\n",
    "print train_batches[0][1]"
   ]
  },
  {
   "cell_type": "code",
   "execution_count": null,
   "metadata": {},
   "outputs": [],
   "source": []
  },
  {
   "cell_type": "code",
   "execution_count": null,
   "metadata": {},
   "outputs": [],
   "source": []
  }
 ],
 "metadata": {
  "kernelspec": {
   "display_name": "Python 2",
   "language": "python",
   "name": "python2"
  },
  "language_info": {
   "codemirror_mode": {
    "name": "ipython",
    "version": 2
   },
   "file_extension": ".py",
   "mimetype": "text/x-python",
   "name": "python",
   "nbconvert_exporter": "python",
   "pygments_lexer": "ipython2",
   "version": "2.7.10"
  }
 },
 "nbformat": 4,
 "nbformat_minor": 2
}
