{
 "cells": [
  {
   "cell_type": "markdown",
   "metadata": {},
   "source": [
    "ensemble"
   ]
  },
  {
   "cell_type": "markdown",
   "metadata": {},
   "source": [
    "## Our Model"
   ]
  },
  {
   "cell_type": "code",
   "execution_count": 1,
   "metadata": {
    "collapsed": true
   },
   "outputs": [],
   "source": [
    "from sklearn.model_selection import train_test_split\n",
    "\n",
    "from sklearn.model_selection import GridSearchCV # 针对一个样本集，它最优的一个参数是什么样子的\n",
    "\n",
    "from sklearn import ensemble # 基础算法 与 模型融合在里面\n",
    "\n",
    "from sklearn.preprocessing import OneHotEncoder # 非数值的变量，可以 one hot 编码\n",
    "\n",
    "# one hot，如果说最简单的想法，非数值型的数字 比如20类，那么从 0 ~ 19 有一个赋值，但是这样不科学，分类是没有排序性的，类别没有大小之分\n",
    "#https://ljalphabeta.gitbooks.io/python-/content/categorical_data.html"
   ]
  },
  {
   "cell_type": "code",
   "execution_count": null,
   "metadata": {
    "collapsed": true
   },
   "outputs": [],
   "source": []
  }
 ],
 "metadata": {
  "kernelspec": {
   "display_name": "Python 3",
   "language": "python",
   "name": "python3"
  },
  "language_info": {
   "codemirror_mode": {
    "name": "ipython",
    "version": 3
   },
   "file_extension": ".py",
   "mimetype": "text/x-python",
   "name": "python",
   "nbconvert_exporter": "python",
   "pygments_lexer": "ipython3",
   "version": "3.6.3"
  }
 },
 "nbformat": 4,
 "nbformat_minor": 2
}
