{
 "cells": [
  {
   "cell_type": "code",
   "execution_count": 1,
   "metadata": {},
   "outputs": [
    {
     "name": "stderr",
     "output_type": "stream",
     "text": [
      "/Users/blair/.pyenv/versions/anaconda3/lib/python3.6/site-packages/h5py/__init__.py:34: FutureWarning: Conversion of the second argument of issubdtype from `float` to `np.floating` is deprecated. In future, it will be treated as `np.float64 == np.dtype(float).type`.\n",
      "  from ._conv import register_converters as _register_converters\n"
     ]
    }
   ],
   "source": [
    "import itertools\n",
    " \n",
    "import pandas as pd\n",
    "import tensorflow as tf\n",
    " \n",
    "tf.logging.set_verbosity(tf.logging.INFO)"
   ]
  },
  {
   "cell_type": "markdown",
   "metadata": {},
   "source": [
    "## 1. 定义数据集中的列名COLUMNS\n",
    "\n",
    "为了区分标签的feature，还要定义FEATURES和LABEL。"
   ]
  },
  {
   "cell_type": "code",
   "execution_count": 26,
   "metadata": {},
   "outputs": [
    {
     "name": "stdout",
     "output_type": "stream",
     "text": [
      "      crim   zn  indus    nox     rm   age     dis  tax  ptratio  medv\n",
      "0   2.3004  0.0  19.58  0.605  6.319  96.1  2.1000  403     14.7  23.8\n",
      "1  13.3598  0.0  18.10  0.693  5.887  94.7  1.7821  666     20.2  12.7\n"
     ]
    },
    {
     "data": {
      "text/plain": [
       "<tf.Tensor 'Const_3:0' shape=(400,) dtype=float64>"
      ]
     },
     "execution_count": 26,
     "metadata": {},
     "output_type": "execute_result"
    }
   ],
   "source": [
    "# 定义数据集中的列名COLUMNS。为了区分标签的feature，还要定义FEATURES和LABEL。\n",
    "\n",
    "COLUMNS = [\"crim\", \"zn\", \"indus\", \"nox\", \"rm\", \"age\",\n",
    "           \"dis\", \"tax\", \"ptratio\", \"medv\"]\n",
    "FEATURES = [\"crim\", \"zn\", \"indus\", \"nox\", \"rm\",\n",
    "            \"age\", \"dis\", \"tax\", \"ptratio\"]\n",
    "LABEL = \"medv\"\n",
    " \n",
    "training_set = pd.read_csv(\"boston_train.csv\", skipinitialspace=True,\n",
    "                           skiprows=1, names=COLUMNS)\n",
    "test_set = pd.read_csv(\"boston_test.csv\", skipinitialspace=True,\n",
    "                       skiprows=1, names=COLUMNS)\n",
    "prediction_set = pd.read_csv(\"boston_predict.csv\", skipinitialspace=True,\n",
    "                             skiprows=1, names=COLUMNS)\n",
    "\n",
    "# print(training_set.head(2))\n",
    "# print(test_set.head(2))\n",
    "print(training_set.head(2))\n",
    "\n",
    "training_set[LABEL].values # array([...])\n",
    "tf.constant(training_set[LABEL].values)"
   ]
  },
  {
   "cell_type": "markdown",
   "metadata": {},
   "source": [
    "## 2. 定义FeatureColumns并创建回归\n",
    "\n",
    "接下来，为输入数据创建一个FeatureColumns 列表，该列表正式指用于训练的特征集。\n",
    "\n",
    "因为数据集中的所有特征都包含连续值，所以您可以使用tf.contrib.layers.real_valued_column()函数创建FeatureColumn ："
   ]
  },
  {
   "cell_type": "code",
   "execution_count": 16,
   "metadata": {},
   "outputs": [
    {
     "data": {
      "text/plain": [
       "[_RealValuedColumn(column_name='crim', dimension=1, default_value=None, dtype=tf.float32, normalizer=None),\n",
       " _RealValuedColumn(column_name='zn', dimension=1, default_value=None, dtype=tf.float32, normalizer=None),\n",
       " _RealValuedColumn(column_name='indus', dimension=1, default_value=None, dtype=tf.float32, normalizer=None),\n",
       " _RealValuedColumn(column_name='nox', dimension=1, default_value=None, dtype=tf.float32, normalizer=None),\n",
       " _RealValuedColumn(column_name='rm', dimension=1, default_value=None, dtype=tf.float32, normalizer=None),\n",
       " _RealValuedColumn(column_name='age', dimension=1, default_value=None, dtype=tf.float32, normalizer=None),\n",
       " _RealValuedColumn(column_name='dis', dimension=1, default_value=None, dtype=tf.float32, normalizer=None),\n",
       " _RealValuedColumn(column_name='tax', dimension=1, default_value=None, dtype=tf.float32, normalizer=None),\n",
       " _RealValuedColumn(column_name='ptratio', dimension=1, default_value=None, dtype=tf.float32, normalizer=None)]"
      ]
     },
     "execution_count": 16,
     "metadata": {},
     "output_type": "execute_result"
    }
   ],
   "source": [
    "feature_cols = [tf.contrib.layers.real_valued_column(k) for k in FEATURES]\n",
    "feature_cols"
   ]
  },
  {
   "cell_type": "markdown",
   "metadata": {},
   "source": [
    "实例化一个DNNRegressor神经网络回归模型。\n",
    "\n",
    "您需要在这里提供两个参数：\n",
    "\n",
    "    hidden_units，一个指定每个隐藏层中的节点数的超参数，（本例使用两个隐藏层，每个层具有10个节点），\n",
    "    feature_columns包含刚刚定义的FeatureColumns列表"
   ]
  },
  {
   "cell_type": "code",
   "execution_count": 20,
   "metadata": {},
   "outputs": [
    {
     "name": "stdout",
     "output_type": "stream",
     "text": [
      "WARNING:tensorflow:From /Users/blair/.pyenv/versions/anaconda3/lib/python3.6/site-packages/tensorflow/contrib/learn/python/learn/estimators/dnn.py:660: regression_head (from tensorflow.contrib.learn.python.learn.estimators.head) is deprecated and will be removed in a future version.\n",
      "Instructions for updating:\n",
      "Please switch to tf.contrib.estimator.*_head.\n",
      "WARNING:tensorflow:From /Users/blair/.pyenv/versions/anaconda3/lib/python3.6/site-packages/tensorflow/contrib/learn/python/learn/estimators/estimator.py:1180: BaseEstimator.__init__ (from tensorflow.contrib.learn.python.learn.estimators.estimator) is deprecated and will be removed in a future version.\n",
      "Instructions for updating:\n",
      "Please replace uses of any Estimator from tf.contrib.learn with an Estimator from tf.estimator.*\n",
      "WARNING:tensorflow:From /Users/blair/.pyenv/versions/anaconda3/lib/python3.6/site-packages/tensorflow/contrib/learn/python/learn/estimators/estimator.py:428: RunConfig.__init__ (from tensorflow.contrib.learn.python.learn.estimators.run_config) is deprecated and will be removed in a future version.\n",
      "Instructions for updating:\n",
      "When switching to tf.estimator.Estimator, use tf.estimator.RunConfig instead.\n",
      "INFO:tensorflow:Using default config.\n",
      "INFO:tensorflow:Using config: {'_task_type': None, '_task_id': 0, '_cluster_spec': <tensorflow.python.training.server_lib.ClusterSpec object at 0x1c2df16c18>, '_master': '', '_num_ps_replicas': 0, '_num_worker_replicas': 0, '_environment': 'local', '_is_chief': True, '_evaluation_master': '', '_train_distribute': None, '_eval_distribute': None, '_device_fn': None, '_tf_config': gpu_options {\n",
      "  per_process_gpu_memory_fraction: 1.0\n",
      "}\n",
      ", '_tf_random_seed': None, '_save_summary_steps': 100, '_save_checkpoints_secs': 600, '_log_step_count_steps': 100, '_protocol': None, '_session_config': None, '_save_checkpoints_steps': None, '_keep_checkpoint_max': 5, '_keep_checkpoint_every_n_hours': 10000, '_model_dir': '/tmp/boston_model'}\n"
     ]
    }
   ],
   "source": [
    "regressor = tf.contrib.learn.DNNRegressor(feature_columns=feature_cols,\n",
    "                                          hidden_units=[10, 10],\n",
    "                                          model_dir=\"/tmp/boston_model\")"
   ]
  },
  {
   "cell_type": "markdown",
   "metadata": {
    "collapsed": true
   },
   "source": [
    "## 3. 构建input_fn\n",
    "\n",
    "要将输入数据传入regressor，创建一个输入函数，它将接受一个pandas Dataframe并返回特征列和标签值作为 Tensors："
   ]
  },
  {
   "cell_type": "code",
   "execution_count": 22,
   "metadata": {
    "collapsed": true
   },
   "outputs": [],
   "source": [
    "def input_fn(data_set):\n",
    "    feature_cols = {k: tf.constant(data_set[k].values)\n",
    "                    for k in FEATURES}\n",
    "    labels = tf.constant(data_set[LABEL].values)\n",
    "    return feature_cols, labels"
   ]
  },
  {
   "cell_type": "markdown",
   "metadata": {},
   "source": [
    "## 4. 训练回归器\n",
    "\n",
    "训练神经网络回归器，运行fit，其中training_set传递给input_fn，如下所示："
   ]
  },
  {
   "cell_type": "code",
   "execution_count": 23,
   "metadata": {},
   "outputs": [
    {
     "name": "stdout",
     "output_type": "stream",
     "text": [
      "WARNING:tensorflow:Rank of input Tensor (1) should be the same as output_rank (2) for column. Will attempt to expand dims. It is highly recommended that you resize your input, as this behavior may change.\n",
      "WARNING:tensorflow:Rank of input Tensor (1) should be the same as output_rank (2) for column. Will attempt to expand dims. It is highly recommended that you resize your input, as this behavior may change.\n",
      "WARNING:tensorflow:Rank of input Tensor (1) should be the same as output_rank (2) for column. Will attempt to expand dims. It is highly recommended that you resize your input, as this behavior may change.\n",
      "WARNING:tensorflow:Rank of input Tensor (1) should be the same as output_rank (2) for column. Will attempt to expand dims. It is highly recommended that you resize your input, as this behavior may change.\n",
      "WARNING:tensorflow:Rank of input Tensor (1) should be the same as output_rank (2) for column. Will attempt to expand dims. It is highly recommended that you resize your input, as this behavior may change.\n",
      "WARNING:tensorflow:Rank of input Tensor (1) should be the same as output_rank (2) for column. Will attempt to expand dims. It is highly recommended that you resize your input, as this behavior may change.\n",
      "WARNING:tensorflow:Rank of input Tensor (1) should be the same as output_rank (2) for column. Will attempt to expand dims. It is highly recommended that you resize your input, as this behavior may change.\n",
      "WARNING:tensorflow:Rank of input Tensor (1) should be the same as output_rank (2) for column. Will attempt to expand dims. It is highly recommended that you resize your input, as this behavior may change.\n",
      "WARNING:tensorflow:Rank of input Tensor (1) should be the same as output_rank (2) for column. Will attempt to expand dims. It is highly recommended that you resize your input, as this behavior may change.\n",
      "INFO:tensorflow:Create CheckpointSaverHook.\n",
      "INFO:tensorflow:Graph was finalized.\n",
      "INFO:tensorflow:Restoring parameters from /tmp/boston_model/model.ckpt-5000\n",
      "INFO:tensorflow:Running local_init_op.\n",
      "INFO:tensorflow:Done running local_init_op.\n",
      "INFO:tensorflow:Saving checkpoints for 5000 into /tmp/boston_model/model.ckpt.\n",
      "INFO:tensorflow:loss = 27.67445, step = 5001\n",
      "INFO:tensorflow:global_step/sec: 819.504\n",
      "INFO:tensorflow:loss = 27.651707, step = 5101 (0.123 sec)\n",
      "INFO:tensorflow:global_step/sec: 976.553\n",
      "INFO:tensorflow:loss = 27.802027, step = 5201 (0.102 sec)\n",
      "INFO:tensorflow:global_step/sec: 1114.95\n",
      "INFO:tensorflow:loss = 27.646128, step = 5301 (0.090 sec)\n",
      "INFO:tensorflow:global_step/sec: 990.964\n",
      "INFO:tensorflow:loss = 27.76053, step = 5401 (0.101 sec)\n",
      "INFO:tensorflow:global_step/sec: 1124.95\n",
      "INFO:tensorflow:loss = 27.888899, step = 5501 (0.089 sec)\n",
      "INFO:tensorflow:global_step/sec: 951.348\n",
      "INFO:tensorflow:loss = 27.523384, step = 5601 (0.105 sec)\n",
      "INFO:tensorflow:global_step/sec: 935.997\n",
      "INFO:tensorflow:loss = 27.687916, step = 5701 (0.107 sec)\n",
      "INFO:tensorflow:global_step/sec: 959.389\n",
      "INFO:tensorflow:loss = 27.677036, step = 5801 (0.105 sec)\n",
      "INFO:tensorflow:global_step/sec: 940.777\n",
      "INFO:tensorflow:loss = 27.569424, step = 5901 (0.106 sec)\n",
      "INFO:tensorflow:global_step/sec: 957.433\n",
      "INFO:tensorflow:loss = 27.48551, step = 6001 (0.104 sec)\n",
      "INFO:tensorflow:global_step/sec: 977.853\n",
      "INFO:tensorflow:loss = 27.499073, step = 6101 (0.102 sec)\n",
      "INFO:tensorflow:global_step/sec: 915.415\n",
      "INFO:tensorflow:loss = 27.47501, step = 6201 (0.109 sec)\n",
      "INFO:tensorflow:global_step/sec: 675.816\n",
      "INFO:tensorflow:loss = 27.457983, step = 6301 (0.152 sec)\n",
      "INFO:tensorflow:global_step/sec: 785.973\n",
      "INFO:tensorflow:loss = 27.442924, step = 6401 (0.125 sec)\n",
      "INFO:tensorflow:global_step/sec: 665.553\n",
      "INFO:tensorflow:loss = 27.427237, step = 6501 (0.152 sec)\n",
      "INFO:tensorflow:global_step/sec: 698.758\n",
      "INFO:tensorflow:loss = 27.300566, step = 6601 (0.142 sec)\n",
      "INFO:tensorflow:global_step/sec: 601.992\n",
      "INFO:tensorflow:loss = 27.420465, step = 6701 (0.168 sec)\n",
      "INFO:tensorflow:global_step/sec: 666.218\n",
      "INFO:tensorflow:loss = 27.4049, step = 6801 (0.150 sec)\n",
      "INFO:tensorflow:global_step/sec: 691.764\n",
      "INFO:tensorflow:loss = 27.215534, step = 6901 (0.142 sec)\n",
      "INFO:tensorflow:global_step/sec: 724.202\n",
      "INFO:tensorflow:loss = 27.198008, step = 7001 (0.140 sec)\n",
      "INFO:tensorflow:global_step/sec: 562.736\n",
      "INFO:tensorflow:loss = 27.17198, step = 7101 (0.179 sec)\n",
      "INFO:tensorflow:global_step/sec: 677.016\n",
      "INFO:tensorflow:loss = 27.16082, step = 7201 (0.145 sec)\n",
      "INFO:tensorflow:global_step/sec: 594.047\n",
      "INFO:tensorflow:loss = 27.14618, step = 7301 (0.167 sec)\n",
      "INFO:tensorflow:global_step/sec: 916.195\n",
      "INFO:tensorflow:loss = 27.138521, step = 7401 (0.109 sec)\n",
      "INFO:tensorflow:global_step/sec: 819.134\n",
      "INFO:tensorflow:loss = 27.124573, step = 7501 (0.122 sec)\n",
      "INFO:tensorflow:global_step/sec: 674.419\n",
      "INFO:tensorflow:loss = 27.113995, step = 7601 (0.148 sec)\n",
      "INFO:tensorflow:global_step/sec: 866.409\n",
      "INFO:tensorflow:loss = 27.11063, step = 7701 (0.117 sec)\n",
      "INFO:tensorflow:global_step/sec: 1077.41\n",
      "INFO:tensorflow:loss = 27.094114, step = 7801 (0.097 sec)\n",
      "INFO:tensorflow:global_step/sec: 963.55\n",
      "INFO:tensorflow:loss = 27.296099, step = 7901 (0.099 sec)\n",
      "INFO:tensorflow:global_step/sec: 1155.67\n",
      "INFO:tensorflow:loss = 27.272999, step = 8001 (0.086 sec)\n",
      "INFO:tensorflow:global_step/sec: 963.76\n",
      "INFO:tensorflow:loss = 27.243261, step = 8101 (0.104 sec)\n",
      "INFO:tensorflow:global_step/sec: 947.249\n",
      "INFO:tensorflow:loss = 27.20118, step = 8201 (0.105 sec)\n",
      "INFO:tensorflow:global_step/sec: 1074.23\n",
      "INFO:tensorflow:loss = 27.184834, step = 8301 (0.093 sec)\n",
      "INFO:tensorflow:global_step/sec: 1041.89\n",
      "INFO:tensorflow:loss = 27.03622, step = 8401 (0.096 sec)\n",
      "INFO:tensorflow:global_step/sec: 986.881\n",
      "INFO:tensorflow:loss = 26.989868, step = 8501 (0.101 sec)\n",
      "INFO:tensorflow:global_step/sec: 829.786\n",
      "INFO:tensorflow:loss = 26.996122, step = 8601 (0.121 sec)\n",
      "INFO:tensorflow:global_step/sec: 913.01\n",
      "INFO:tensorflow:loss = 26.966091, step = 8701 (0.112 sec)\n",
      "INFO:tensorflow:global_step/sec: 1211.86\n",
      "INFO:tensorflow:loss = 26.992731, step = 8801 (0.086 sec)\n",
      "INFO:tensorflow:global_step/sec: 909.19\n",
      "INFO:tensorflow:loss = 26.96706, step = 8901 (0.104 sec)\n",
      "INFO:tensorflow:global_step/sec: 1120.37\n",
      "INFO:tensorflow:loss = 26.981308, step = 9001 (0.091 sec)\n",
      "INFO:tensorflow:global_step/sec: 979.776\n",
      "INFO:tensorflow:loss = 26.958881, step = 9101 (0.104 sec)\n",
      "INFO:tensorflow:global_step/sec: 1020.67\n",
      "INFO:tensorflow:loss = 26.952393, step = 9201 (0.096 sec)\n",
      "INFO:tensorflow:global_step/sec: 899.153\n",
      "INFO:tensorflow:loss = 27.090055, step = 9301 (0.110 sec)\n",
      "INFO:tensorflow:global_step/sec: 1086.92\n",
      "INFO:tensorflow:loss = 27.091455, step = 9401 (0.093 sec)\n",
      "INFO:tensorflow:global_step/sec: 1240.06\n",
      "INFO:tensorflow:loss = 26.919415, step = 9501 (0.081 sec)\n",
      "INFO:tensorflow:global_step/sec: 1241.9\n",
      "INFO:tensorflow:loss = 26.876524, step = 9601 (0.081 sec)\n",
      "INFO:tensorflow:global_step/sec: 1154.65\n",
      "INFO:tensorflow:loss = 26.878225, step = 9701 (0.086 sec)\n",
      "INFO:tensorflow:global_step/sec: 1267.62\n",
      "INFO:tensorflow:loss = 26.860344, step = 9801 (0.079 sec)\n",
      "INFO:tensorflow:global_step/sec: 1275.89\n",
      "INFO:tensorflow:loss = 26.860535, step = 9901 (0.078 sec)\n",
      "INFO:tensorflow:Saving checkpoints for 10000 into /tmp/boston_model/model.ckpt.\n",
      "INFO:tensorflow:Loss for final step: 26.835556.\n"
     ]
    },
    {
     "data": {
      "text/plain": [
       "DNNRegressor(params={'head': <tensorflow.contrib.learn.python.learn.estimators.head._RegressionHead object at 0x182b1edfd0>, 'hidden_units': [10, 10], 'feature_columns': (_RealValuedColumn(column_name='crim', dimension=1, default_value=None, dtype=tf.float32, normalizer=None), _RealValuedColumn(column_name='zn', dimension=1, default_value=None, dtype=tf.float32, normalizer=None), _RealValuedColumn(column_name='indus', dimension=1, default_value=None, dtype=tf.float32, normalizer=None), _RealValuedColumn(column_name='nox', dimension=1, default_value=None, dtype=tf.float32, normalizer=None), _RealValuedColumn(column_name='rm', dimension=1, default_value=None, dtype=tf.float32, normalizer=None), _RealValuedColumn(column_name='age', dimension=1, default_value=None, dtype=tf.float32, normalizer=None), _RealValuedColumn(column_name='dis', dimension=1, default_value=None, dtype=tf.float32, normalizer=None), _RealValuedColumn(column_name='tax', dimension=1, default_value=None, dtype=tf.float32, normalizer=None), _RealValuedColumn(column_name='ptratio', dimension=1, default_value=None, dtype=tf.float32, normalizer=None)), 'optimizer': None, 'activation_fn': <function relu at 0x1262326a8>, 'dropout': None, 'gradient_clip_norm': None, 'embedding_lr_multipliers': None, 'input_layer_min_slice_size': None})"
      ]
     },
     "execution_count": 23,
     "metadata": {},
     "output_type": "execute_result"
    }
   ],
   "source": [
    "regressor.fit(input_fn=lambda: input_fn(training_set), steps=5000)"
   ]
  },
  {
   "cell_type": "markdown",
   "metadata": {},
   "source": [
    "## 5. 评估模型\n",
    "\n",
    "训练模型的性能对测试数据集的影响。运行 evaluate，这个时候传递 test_set 到 input_fn："
   ]
  },
  {
   "cell_type": "code",
   "execution_count": 27,
   "metadata": {},
   "outputs": [
    {
     "name": "stdout",
     "output_type": "stream",
     "text": [
      "WARNING:tensorflow:Rank of input Tensor (1) should be the same as output_rank (2) for column. Will attempt to expand dims. It is highly recommended that you resize your input, as this behavior may change.\n",
      "WARNING:tensorflow:Rank of input Tensor (1) should be the same as output_rank (2) for column. Will attempt to expand dims. It is highly recommended that you resize your input, as this behavior may change.\n",
      "WARNING:tensorflow:Rank of input Tensor (1) should be the same as output_rank (2) for column. Will attempt to expand dims. It is highly recommended that you resize your input, as this behavior may change.\n",
      "WARNING:tensorflow:Rank of input Tensor (1) should be the same as output_rank (2) for column. Will attempt to expand dims. It is highly recommended that you resize your input, as this behavior may change.\n",
      "WARNING:tensorflow:Rank of input Tensor (1) should be the same as output_rank (2) for column. Will attempt to expand dims. It is highly recommended that you resize your input, as this behavior may change.\n",
      "WARNING:tensorflow:Rank of input Tensor (1) should be the same as output_rank (2) for column. Will attempt to expand dims. It is highly recommended that you resize your input, as this behavior may change.\n",
      "WARNING:tensorflow:Rank of input Tensor (1) should be the same as output_rank (2) for column. Will attempt to expand dims. It is highly recommended that you resize your input, as this behavior may change.\n",
      "WARNING:tensorflow:Rank of input Tensor (1) should be the same as output_rank (2) for column. Will attempt to expand dims. It is highly recommended that you resize your input, as this behavior may change.\n",
      "WARNING:tensorflow:Rank of input Tensor (1) should be the same as output_rank (2) for column. Will attempt to expand dims. It is highly recommended that you resize your input, as this behavior may change.\n",
      "INFO:tensorflow:Starting evaluation at 2018-11-03-00:05:46\n",
      "INFO:tensorflow:Graph was finalized.\n",
      "INFO:tensorflow:Restoring parameters from /tmp/boston_model/model.ckpt-10000\n",
      "INFO:tensorflow:Running local_init_op.\n",
      "INFO:tensorflow:Done running local_init_op.\n",
      "INFO:tensorflow:Evaluation [1/1]\n",
      "INFO:tensorflow:Finished evaluation at 2018-11-03-00:05:46\n",
      "INFO:tensorflow:Saving dict for global step 10000: global_step = 10000, loss = 11.02855\n"
     ]
    }
   ],
   "source": [
    "ev = regressor.evaluate(input_fn=lambda: input_fn(test_set), steps=1)"
   ]
  },
  {
   "cell_type": "code",
   "execution_count": 28,
   "metadata": {},
   "outputs": [
    {
     "name": "stdout",
     "output_type": "stream",
     "text": [
      "Loss: 11.028550\n"
     ]
    }
   ],
   "source": [
    "loss_score = ev[\"loss\"]\n",
    "print(\"Loss: {0:f}\".format(loss_score))"
   ]
  },
  {
   "cell_type": "markdown",
   "metadata": {},
   "source": [
    "## 6. 预测\n",
    "\n",
    "最后，您可以使用该模型预测房价中值prediction_set，其中包含特征数据，但没有标签的六个示例："
   ]
  },
  {
   "cell_type": "code",
   "execution_count": 34,
   "metadata": {},
   "outputs": [
    {
     "name": "stdout",
     "output_type": "stream",
     "text": [
      "WARNING:tensorflow:Rank of input Tensor (1) should be the same as output_rank (2) for column. Will attempt to expand dims. It is highly recommended that you resize your input, as this behavior may change.\n",
      "WARNING:tensorflow:Rank of input Tensor (1) should be the same as output_rank (2) for column. Will attempt to expand dims. It is highly recommended that you resize your input, as this behavior may change.\n",
      "WARNING:tensorflow:Rank of input Tensor (1) should be the same as output_rank (2) for column. Will attempt to expand dims. It is highly recommended that you resize your input, as this behavior may change.\n",
      "WARNING:tensorflow:Rank of input Tensor (1) should be the same as output_rank (2) for column. Will attempt to expand dims. It is highly recommended that you resize your input, as this behavior may change.\n",
      "WARNING:tensorflow:Rank of input Tensor (1) should be the same as output_rank (2) for column. Will attempt to expand dims. It is highly recommended that you resize your input, as this behavior may change.\n",
      "WARNING:tensorflow:Rank of input Tensor (1) should be the same as output_rank (2) for column. Will attempt to expand dims. It is highly recommended that you resize your input, as this behavior may change.\n",
      "WARNING:tensorflow:Rank of input Tensor (1) should be the same as output_rank (2) for column. Will attempt to expand dims. It is highly recommended that you resize your input, as this behavior may change.\n",
      "WARNING:tensorflow:Rank of input Tensor (1) should be the same as output_rank (2) for column. Will attempt to expand dims. It is highly recommended that you resize your input, as this behavior may change.\n",
      "WARNING:tensorflow:Rank of input Tensor (1) should be the same as output_rank (2) for column. Will attempt to expand dims. It is highly recommended that you resize your input, as this behavior may change.\n",
      "INFO:tensorflow:Graph was finalized.\n",
      "INFO:tensorflow:Restoring parameters from /tmp/boston_model/model.ckpt-10000\n",
      "INFO:tensorflow:Running local_init_op.\n",
      "INFO:tensorflow:Done running local_init_op.\n",
      "Predictions: [33.973972, 18.967258, 23.540922, 35.306618, 17.051012, 18.789053]\n"
     ]
    }
   ],
   "source": [
    "y = regressor.predict_scores(input_fn=lambda: input_fn(prediction_set), batch_size=None)\n",
    "# .predict() returns an iterator; convert to a list and print predictions\n",
    "predictions = list(itertools.islice(y, 6))\n",
    "print(\"Predictions: {}\".format(str(predictions)))"
   ]
  },
  {
   "cell_type": "code",
   "execution_count": null,
   "metadata": {
    "collapsed": true
   },
   "outputs": [],
   "source": []
  }
 ],
 "metadata": {
  "kernelspec": {
   "display_name": "Python 3",
   "language": "python",
   "name": "python3"
  },
  "language_info": {
   "codemirror_mode": {
    "name": "ipython",
    "version": 3
   },
   "file_extension": ".py",
   "mimetype": "text/x-python",
   "name": "python",
   "nbconvert_exporter": "python",
   "pygments_lexer": "ipython3",
   "version": "3.6.3"
  }
 },
 "nbformat": 4,
 "nbformat_minor": 2
}
