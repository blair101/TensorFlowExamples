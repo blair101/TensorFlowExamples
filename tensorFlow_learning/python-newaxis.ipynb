{
 "cells": [
  {
   "cell_type": "code",
   "execution_count": 3,
   "metadata": {},
   "outputs": [],
   "source": [
    "import numpy as np\n",
    "\n",
    "x1 = np.array([10, 20, 30], float)"
   ]
  },
  {
   "cell_type": "code",
   "execution_count": 8,
   "metadata": {},
   "outputs": [
    {
     "name": "stdout",
     "output_type": "stream",
     "text": [
      "shape of x1 is  (3,)\n",
      "[ 10.  20.  30.]\n",
      "-------------\n",
      "shape of x2 is  (3, 1)\n",
      "[[ 10.]\n",
      " [ 20.]\n",
      " [ 30.]]\n",
      "-------------\n",
      "shape of x3 is  (1, 3)\n",
      "[[ 10.  20.  30.]]\n"
     ]
    }
   ],
   "source": [
    "\n",
    "# 有一個一維陣列x1，我分別想要把它變成一個 3*1 的矩陣x2，以及 1*3 的矩陣x3，作法如下。\n",
    "\n",
    "print(\"shape of x1 is \", x1.shape)\n",
    "print(x1)\n",
    "\n",
    "print(\"-------------\")\n",
    "\n",
    "x2 = x1[:, np.newaxis]\n",
    "print(\"shape of x2 is \", x2.shape)\n",
    "print(x2)\n",
    "\n",
    "print(\"-------------\")\n",
    "\n",
    "x3 = x1[np.newaxis, :]\n",
    "print(\"shape of x3 is \", x3.shape)\n",
    "print(x3)\n"
   ]
  },
  {
   "cell_type": "code",
   "execution_count": null,
   "metadata": {
    "collapsed": true
   },
   "outputs": [],
   "source": []
  }
 ],
 "metadata": {
  "kernelspec": {
   "display_name": "Python 3",
   "language": "python",
   "name": "python3"
  },
  "language_info": {
   "codemirror_mode": {
    "name": "ipython",
    "version": 3
   },
   "file_extension": ".py",
   "mimetype": "text/x-python",
   "name": "python",
   "nbconvert_exporter": "python",
   "pygments_lexer": "ipython3",
   "version": "3.6.3"
  }
 },
 "nbformat": 4,
 "nbformat_minor": 2
}
