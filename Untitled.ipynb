{
 "cells": [
  {
   "cell_type": "code",
   "execution_count": 6,
   "metadata": {},
   "outputs": [
    {
     "data": {
      "text/plain": [
       "array([[[ 0.51185529, -0.1570723 , -0.82762394,  1.57795064],\n",
       "        [ 1.59346377,  0.44664598, -0.78177574,  0.27554598],\n",
       "        [-1.37362695, -0.07233817, -0.350803  ,  0.00291536]],\n",
       "\n",
       "       [[ 0.88205358,  0.18853216,  0.6530902 , -0.72692926],\n",
       "        [ 1.9668065 , -0.53011673,  0.91078337,  0.07736041],\n",
       "        [ 1.57319745, -0.19266789, -1.26203342, -0.11473687]]])"
      ]
     },
     "execution_count": 6,
     "metadata": {},
     "output_type": "execute_result"
    }
   ],
   "source": [
    "#coding=utf-8\n",
    "import tensorflow as tf\n",
    "import numpy as np\n",
    "# 创建输入数据\n",
    "X = np.random.randn(2, 3, 4)\n",
    "X"
   ]
  },
  {
   "cell_type": "code",
   "execution_count": null,
   "metadata": {
    "collapsed": true
   },
   "outputs": [],
   "source": []
  }
 ],
 "metadata": {
  "kernelspec": {
   "display_name": "Python 3",
   "language": "python",
   "name": "python3"
  },
  "language_info": {
   "codemirror_mode": {
    "name": "ipython",
    "version": 3
   },
   "file_extension": ".py",
   "mimetype": "text/x-python",
   "name": "python",
   "nbconvert_exporter": "python",
   "pygments_lexer": "ipython3",
   "version": "3.6.3"
  }
 },
 "nbformat": 4,
 "nbformat_minor": 2
}
